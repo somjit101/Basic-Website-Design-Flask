{
 "cells": [
  {
   "cell_type": "code",
   "execution_count": null,
   "metadata": {},
   "outputs": [
    {
     "name": "stderr",
     "output_type": "stream",
     "text": [
      " * Running on http://127.0.0.1:5000/ (Press CTRL+C to quit)\n",
      "127.0.0.1 - - [28/Aug/2019 15:12:36] \"GET / HTTP/1.1\" 200 -\n",
      "127.0.0.1 - - [28/Aug/2019 15:12:42] \"GET /dataset-bank-marketing.html/ HTTP/1.1\" 200 -\n",
      "127.0.0.1 - - [28/Aug/2019 15:15:12] \"GET / HTTP/1.1\" 200 -\n",
      "127.0.0.1 - - [28/Aug/2019 15:15:14] \"GET /dataset-bank-marketing.html/ HTTP/1.1\" 200 -\n"
     ]
    }
   ],
   "source": [
    "from flask import Flask, render_template\n",
    "\n",
    "app = Flask(__name__)\n",
    "\n",
    "\n",
    "@app.route('/')\n",
    "def index():\n",
    "    return render_template(\"homepage.html\")\n",
    "\n",
    "\n",
    "@app.route('/<path:path>')\n",
    "def unified_routing(path):\n",
    "\n",
    "    if(path.endswith(\"homepage.html\") or path.endswith(\"homepage.html/\")):\n",
    "        return render_template(\"homepage.html\")\n",
    "\n",
    "    elif(path.endswith(\"dataset-bank-marketing.html\") or path.endswith(\"dataset-bank-marketing.html/\")):\n",
    "        return render_template(\"dataset-bank-marketing.html\")\n",
    "\n",
    "    elif (path.endswith(\"dataset-IPL.html\") or path.endswith(\"dataset-IPL.html/\")):\n",
    "        return render_template(\"dataset-IPL.html\")\n",
    "\n",
    "    elif (path.endswith(\"about.html\") or path.endswith(\"about.html/\")):\n",
    "        return render_template(\"about.html\")\n",
    "\n",
    "if (__name__ == \"__main__\"):\n",
    "    app.run(debug=False, use_reloader=False)\n"
   ]
  }
 ],
 "metadata": {
  "kernelspec": {
   "display_name": "Python 3",
   "language": "python",
   "name": "python3"
  },
  "language_info": {
   "codemirror_mode": {
    "name": "ipython",
    "version": 3
   },
   "file_extension": ".py",
   "mimetype": "text/x-python",
   "name": "python",
   "nbconvert_exporter": "python",
   "pygments_lexer": "ipython3",
   "version": "3.6.5"
  }
 },
 "nbformat": 4,
 "nbformat_minor": 2
}
